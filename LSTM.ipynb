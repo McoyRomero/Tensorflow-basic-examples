{
 "cells": [
  {
   "cell_type": "code",
   "execution_count": 1,
   "metadata": {
    "collapsed": false
   },
   "outputs": [
    {
     "name": "stdout",
     "output_type": "stream",
     "text": [
      "Extracting MNIST_data/train-images-idx3-ubyte.gz\n",
      "Extracting MNIST_data/train-labels-idx1-ubyte.gz\n",
      "Extracting MNIST_data/t10k-images-idx3-ubyte.gz\n",
      "Extracting MNIST_data/t10k-labels-idx1-ubyte.gz\n"
     ]
    }
   ],
   "source": [
    "%matplotlib inline\n",
    "\n",
    "import tensorflow as tf\n",
    "import matplotlib.pyplot as plt\n",
    "import numpy as np\n",
    "\n",
    "import tensorflow as tf\n",
    "from tensorflow.models.rnn import rnn, rnn_cell\n",
    "\n",
    "from tensorflow.examples.tutorials.mnist import input_data\n",
    "mnist = input_data.read_data_sets(\"MNIST_data/\", one_hot=True)\n",
    "\n"
   ]
  },
  {
   "cell_type": "code",
   "execution_count": 2,
   "metadata": {
    "collapsed": true
   },
   "outputs": [],
   "source": [
    "'''\n",
    "NOTE: These parameters are ajusted for a very fast training stage\n",
    " if you have a cuda-enabled GPU and free time you can try to tune \n",
    " them to optain an optimal performance\n",
    "'''\n",
    "\n",
    "# Network Parameters\n",
    "n_input = 28 # MNIST data input (img shape: 28*28)\n",
    "n_steps = 15 # timesteps\n",
    "n_hidden = 150 # hidden layer num of features\n",
    "n_classes = 28 # MNIST total classes (0-9 digits)\n",
    "\n",
    "\n",
    "# Parameters\n",
    "learning_rate = 0.0005\n",
    "training_iters = 10000000\n",
    "display_step = 150\n",
    "\n",
    "batch_size = 150*(27-n_steps)"
   ]
  },
  {
   "cell_type": "code",
   "execution_count": 3,
   "metadata": {
    "collapsed": false
   },
   "outputs": [],
   "source": [
    "# tf Graph input\n",
    "x = tf.placeholder(\"float\", [None, n_steps, n_input])\n",
    "istate = tf.placeholder(\"float\", [None, 2*n_hidden]) #state & cell => 2x n_hidden\n",
    "y = tf.placeholder(\"float\", [None, n_classes])\n",
    "\n",
    "# Define weights\n",
    "weights = {\n",
    "    'hidden': tf.Variable(tf.random_normal([n_input, n_hidden])), # Hidden layer weights\n",
    "    'out': tf.Variable(tf.random_normal([n_hidden, n_classes]))\n",
    "}\n",
    "biases = {\n",
    "    'hidden': tf.Variable(tf.random_normal([n_hidden])),\n",
    "    'out': tf.Variable(tf.random_normal([n_classes]))\n",
    "}"
   ]
  },
  {
   "cell_type": "code",
   "execution_count": 4,
   "metadata": {
    "collapsed": true
   },
   "outputs": [],
   "source": [
    "def RNN(_X, _istate, _weights, _biases):\n",
    "\n",
    "    # input shape: (batch_size, n_steps, n_input)\n",
    "    _X = tf.transpose(_X, [1, 0, 2])  # permute n_steps and batch_size\n",
    "    # Reshape to prepare input to hidden activation\n",
    "    _X = tf.reshape(_X, [-1, n_input]) # (n_steps*batch_size, n_input)\n",
    "    # Linear activation\n",
    "    _X = tf.matmul(_X, _weights['hidden']) + _biases['hidden']\n",
    "\n",
    "    # Define a lstm cell with tensorflow\n",
    "    lstm_cell = rnn_cell.BasicLSTMCell(n_hidden, forget_bias=1.0)\n",
    "    # Split data because rnn cell needs a list of inputs for the RNN inner loop\n",
    "    _X = tf.split(0, n_steps, _X) # n_steps * (batch_size, n_hidden)\n",
    "\n",
    "    # Get lstm cell output\n",
    "    outputs, states = rnn.rnn(lstm_cell, _X, initial_state=_istate)\n",
    "\n",
    "    # Get inner loop last output\n",
    "    return tf.nn.sigmoid(tf.matmul(outputs[-1], _weights['out']) + _biases['out'])"
   ]
  },
  {
   "cell_type": "code",
   "execution_count": 5,
   "metadata": {
    "collapsed": false
   },
   "outputs": [],
   "source": [
    "pred = RNN(x, istate, weights, biases)\n",
    "\n",
    "# Define loss and optimizer\n",
    "cost = tf.reduce_mean(tf.square(pred-y)) # MSE loss\n",
    "optimizer = tf.train.AdamOptimizer(learning_rate=learning_rate).minimize(cost)"
   ]
  },
  {
   "cell_type": "code",
   "execution_count": 6,
   "metadata": {
    "collapsed": false
   },
   "outputs": [],
   "source": [
    "''' \n",
    " This function creates several training sequences from each\n",
    " MNIST sample image, each training sequence consists of #n_steps samples\n",
    " with 28 features.\n",
    "'''\n",
    "\n",
    "def sequencesFromTrainingData(data, nSteps):\n",
    "    \n",
    "    X = []\n",
    "    Y = []\n",
    "    \n",
    "    for sample in data:\n",
    "        sample = sample.reshape((28,28))\n",
    "        for i in range(27-nSteps):\n",
    "            X.append(sample[i:i+nSteps,:])\n",
    "            Y.append(sample[i+nSteps][:])\n",
    "    return np.asarray(X), np.asarray(Y)\n",
    "        \n"
   ]
  },
  {
   "cell_type": "code",
   "execution_count": 7,
   "metadata": {
    "collapsed": false
   },
   "outputs": [
    {
     "data": {
      "image/png": "[encoded data removed]",
      "text/plain": [
       "<matplotlib.figure.Figure at 0x7fad5dc20610>"
      ]
     },
     "metadata": {},
     "output_type": "display_data"
    },
    {
     "data": {
      "image/png": "[encoded data removed]",
      "text/plain": [
       "<matplotlib.figure.Figure at 0x7fad5ca91d50>"
      ]
     },
     "metadata": {},
     "output_type": "display_data"
    }
   ],
   "source": [
    "'''\n",
    "This Cell shows a sample sequence and the trarget\n",
    "output after the net has processed the sequence\n",
    "'''\n",
    "\n",
    "a,b = sequencesFromTrainingData(mnist.train.next_batch(10)[0], 15)\n",
    "\n",
    "n = 0\n",
    "\n",
    "plt.imshow(a[n], cmap=\"gray\", interpolation=\"none\")\n",
    "plt.show()\n",
    "plt.imshow(b[n].reshape(1,28),cmap=\"gray\", interpolation=\"none\")\n",
    "plt.show()"
   ]
  },
  {
   "cell_type": "code",
   "execution_count": 8,
   "metadata": {
    "collapsed": false
   },
   "outputs": [
    {
     "name": "stdout",
     "output_type": "stream",
     "text": [
      "Iter 270000, Minibatch Loss= 0.035157\n",
      "Iter 540000, Minibatch Loss= 0.025717\n",
      "Iter 810000, Minibatch Loss= 0.023551\n",
      "Iter 1080000, Minibatch Loss= 0.024059\n",
      "Iter 1350000, Minibatch Loss= 0.024585\n",
      "Iter 1620000, Minibatch Loss= 0.022733\n",
      "Iter 1890000, Minibatch Loss= 0.023425\n",
      "Iter 2160000, Minibatch Loss= 0.022509\n",
      "Iter 2430000, Minibatch Loss= 0.021374\n",
      "Iter 2700000, Minibatch Loss= 0.021841\n",
      "Iter 2970000, Minibatch Loss= 0.021283\n",
      "Iter 3240000, Minibatch Loss= 0.021023\n",
      "Iter 3510000, Minibatch Loss= 0.022021\n",
      "Iter 3780000, Minibatch Loss= 0.019470\n",
      "Iter 4050000, Minibatch Loss= 0.021083\n",
      "Iter 4320000, Minibatch Loss= 0.021451\n",
      "Iter 4590000, Minibatch Loss= 0.019180\n",
      "Iter 4860000, Minibatch Loss= 0.019603\n",
      "Iter 5130000, Minibatch Loss= 0.020545\n",
      "Iter 5400000, Minibatch Loss= 0.018102\n",
      "Iter 5670000, Minibatch Loss= 0.018120\n",
      "Iter 5940000, Minibatch Loss= 0.020190\n",
      "Iter 6210000, Minibatch Loss= 0.020658\n",
      "Iter 6480000, Minibatch Loss= 0.020103\n",
      "Iter 6750000, Minibatch Loss= 0.019075\n",
      "Iter 7020000, Minibatch Loss= 0.019338\n",
      "Iter 7290000, Minibatch Loss= 0.020072\n",
      "Iter 7560000, Minibatch Loss= 0.019502\n",
      "Iter 7830000, Minibatch Loss= 0.019564\n",
      "Iter 8100000, Minibatch Loss= 0.012591\n",
      "Iter 8370000, Minibatch Loss= 0.012455\n",
      "Iter 8640000, Minibatch Loss= 0.011105\n",
      "Iter 8910000, Minibatch Loss= 0.011124\n",
      "Iter 9180000, Minibatch Loss= 0.011332\n",
      "Iter 9450000, Minibatch Loss= 0.010772\n",
      "Iter 9720000, Minibatch Loss= 0.012176\n",
      "Iter 9990000, Minibatch Loss= 0.010926\n",
      "Optimization Finished!\n"
     ]
    }
   ],
   "source": [
    "# Initializing the variables\n",
    "init = tf.initialize_all_variables()\n",
    "\n",
    "# Launch the graph\n",
    "sess = tf.Session()\n",
    "sess.run(init)\n",
    "step = 1\n",
    "\n",
    "# Keep training until reach max iterations\n",
    "while step * batch_size < training_iters:\n",
    "    batch_xs,_ = mnist.train.next_batch(batch_size/(27-n_steps))\n",
    "    # Get training sequences from MNIST data\n",
    "    batch_xs, batch_ys = sequencesFromTrainingData(batch_xs, n_steps)\n",
    "    # Fit training using batch data\n",
    "    sess.run(optimizer, feed_dict={x: batch_xs, y: batch_ys,\n",
    "                                   istate: np.zeros((batch_size, 2*n_hidden))})\n",
    "    if step % display_step == 0:\n",
    "        # Calculate batch loss\n",
    "        loss = sess.run(cost, feed_dict={x: batch_xs, y: batch_ys,\n",
    "                                         istate: np.zeros((batch_size, 2*n_hidden))})\n",
    "        print \"Iter \" + str(step*batch_size) + \", Minibatch Loss= \" + \"{:.6f}\".format(loss)\n",
    "    step += 1\n",
    "print \"Optimization Finished!\" "
   ]
  },
  {
   "cell_type": "code",
   "execution_count": 11,
   "metadata": {
    "collapsed": false
   },
   "outputs": [
    {
     "data": {
      "image/png": "[encoded data removed]",
      "text/plain": [
       "<matplotlib.figure.Figure at 0x7fad5c9c0050>"
      ]
     },
     "metadata": {},
     "output_type": "display_data"
    },
    {
     "name": "stdout",
     "output_type": "stream",
     "text": [
      "(28, 28)\n"
     ]
    },
    {
     "data": {
      "text/plain": [
       "<matplotlib.image.AxesImage at 0x7fad50cf66d0>"
      ]
     },
     "execution_count": 11,
     "metadata": {},
     "output_type": "execute_result"
    },
    {
     "data": {
      "image/png": "[encoded data removed]",
      "text/plain": [
       "<matplotlib.figure.Figure at 0x7fad5c855b10>"
      ]
     },
     "metadata": {},
     "output_type": "display_data"
    }
   ],
   "source": [
    "'''\n",
    "Here the trained network is used to reconstruct a digit.\n",
    "It is not exactly fair as the network always observes the original \n",
    "image to predict the next row, so the reconstruction is almost perfect\n",
    "'''\n",
    "\n",
    "sample = mnist.test.next_batch(1)[0]\n",
    "seq,_ = sequencesFromTrainingData(sample,n_steps)\n",
    "\n",
    "p = sess.run(pred, feed_dict={x: seq,\n",
    "                          istate: np.zeros((seq.shape[0], 2*n_hidden))} )\n",
    "\n",
    "sample = sample[0].reshape(28,28)\n",
    "\n",
    "plt.imshow(sample, interpolation=\"none\", cmap=\"gray\")\n",
    "plt.show()\n",
    "\n",
    "\n",
    "\n",
    "sample[16:, :] = p.reshape(-1,28) \n",
    "print sample.shape\n",
    "\n",
    "plt.imshow(sample, interpolation=\"none\", cmap=\"gray\")"
   ]
  },
  {
   "cell_type": "code",
   "execution_count": 20,
   "metadata": {
    "collapsed": false
   },
   "outputs": [
    {
     "data": {
      "image/png": "[encoded data removed]",
      "text/plain": [
       "<matplotlib.figure.Figure at 0x7fad506e91d0>"
      ]
     },
     "metadata": {},
     "output_type": "display_data"
    },
    {
     "data": {
      "text/plain": [
       "<matplotlib.image.AxesImage at 0x7fad50676e50>"
      ]
     },
     "execution_count": 20,
     "metadata": {},
     "output_type": "execute_result"
    },
    {
     "data": {
      "image/png": "[encoded data removed]",
      "text/plain": [
       "<matplotlib.figure.Figure at 0x7fad506e9610>"
      ]
     },
     "metadata": {},
     "output_type": "display_data"
    }
   ],
   "source": [
    "'''\n",
    "Here the trained network is used to reconstruct a digit in a more difficult way.\n",
    "The network observes only the #n_steps first rows of the original image \n",
    "and then it tries to reconstruct the rest\n",
    "\n",
    "Note that the window of #n_steps observerd rows moves down as the digit is reconstructed so\n",
    "each predicted row is considered as part of the input for the next prediction. \n",
    "'''\n",
    "\n",
    "import matplotlib as mpl \n",
    "\n",
    "sample = mnist.train.next_batch(1)[0][0].reshape((28,28))\n",
    "plt.imshow(sample, interpolation=\"none\", cmap=\"gray\")\n",
    "plt.show()\n",
    "\n",
    "\n",
    "\n",
    "line = np.zeros((28,28))\n",
    "line[n_steps, :] = 1\n",
    "line = np.ma.masked_where(y == 0, y)\n",
    "\n",
    "\n",
    "\n",
    "for i in range(12):\n",
    "    \n",
    "    p = sess.run(pred, feed_dict={x: [sample[i:i+n_steps,:]],\n",
    "                          istate: np.zeros((1, 2*n_hidden))} )\n",
    "    sample[i+n_steps] = p\n",
    "\n",
    "sampleRGB = np.zeros((28,28,3))   \n",
    "\n",
    "sampleRGB[:,:,0] = sample\n",
    "sampleRGB[:,:,1] = sample\n",
    "sampleRGB[:,:,2] = sample\n",
    "\n",
    "sampleRGB[14,:,:] = 0\n",
    "sampleRGB[14,:,0] = 1\n",
    "    \n",
    "# The red line divides the observed part from the reconstructed part.\n",
    "# Note that sometimes the net can not identify the digit correctly \n",
    "# but it draws a consistent digit anyway    \n",
    "    \n",
    "plt.imshow(sampleRGB, interpolation=\"none\")\n"
   ]
  },
  {
   "cell_type": "code",
   "execution_count": null,
   "metadata": {
    "collapsed": true
   },
   "outputs": [],
   "source": []
  }
 ],
 "metadata": {
  "kernelspec": {
   "display_name": "Python 2",
   "language": "python",
   "name": "python2"
  },
  "language_info": {
   "codemirror_mode": {
    "name": "ipython",
    "version": 2
   },
   "file_extension": ".py",
   "mimetype": "text/x-python",
   "name": "python",
   "nbconvert_exporter": "python",
   "pygments_lexer": "ipython2",
   "version": "2.7.6"
  }
 },
 "nbformat": 4,
 "nbformat_minor": 0
}
