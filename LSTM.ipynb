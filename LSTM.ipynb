{
 "cells": [
  {
   "cell_type": "code",
   "execution_count": 1,
   "metadata": {
    "collapsed": false
   },
   "outputs": [
    {
     "name": "stdout",
     "output_type": "stream",
     "text": [
      "Extracting MNIST_data/train-images-idx3-ubyte.gz\n",
      "Extracting MNIST_data/train-labels-idx1-ubyte.gz\n",
      "Extracting MNIST_data/t10k-images-idx3-ubyte.gz\n",
      "Extracting MNIST_data/t10k-labels-idx1-ubyte.gz\n"
     ]
    }
   ],
   "source": [
    "%matplotlib inline\n",
    "\n",
    "import tensorflow as tf\n",
    "import matplotlib.pyplot as plt\n",
    "import numpy as np\n",
    "\n",
    "import tensorflow as tf\n",
    "from tensorflow.models.rnn import rnn, rnn_cell\n",
    "\n",
    "from tensorflow.examples.tutorials.mnist import input_data\n",
    "mnist = input_data.read_data_sets(\"MNIST_data/\", one_hot=True)\n",
    "\n"
   ]
  },
  {
   "cell_type": "code",
   "execution_count": 2,
   "metadata": {
    "collapsed": true
   },
   "outputs": [],
   "source": [
    "'''\n",
    "NOTE: These parameters are ajusted for a very fast training stage\n",
    " if you have a cuda-enabled GPU and free time you can try to tune \n",
    " them to optain an optimal performance\n",
    "'''\n",
    "\n",
    "# Network Parameters\n",
    "n_input = 28 # MNIST data input (img shape: 28*28)\n",
    "n_steps = 15 # timesteps\n",
    "n_hidden = 150 # hidden layer num of features\n",
    "n_classes = 28 # MNIST total classes (0-9 digits)\n",
    "\n",
    "\n",
    "training_iters = 1000\n",
    "\n",
    "batch_size = 150"
   ]
  },
  {
   "cell_type": "code",
   "execution_count": 3,
   "metadata": {
    "collapsed": false
   },
   "outputs": [],
   "source": [
    "# tf Graph input\n",
    "x = tf.placeholder(\"float\", [None, n_steps, n_input])\n",
    "istate = tf.placeholder(\"float\", [None, 2*n_hidden]) #state & cell => 2x n_hidden\n",
    "y_ = tf.placeholder(\"float\", [None, n_classes])\n",
    "\n",
    "w_fc1 = tf.Variable(tf.random_normal([n_input, n_hidden])) # Hidden layer weights\n",
    "w_fc2 = tf.Variable(tf.random_normal([n_hidden, n_classes]))\n",
    "\n",
    "b_fc1 = tf.Variable(tf.random_normal([n_hidden]))\n",
    "b_fc2 = tf.Variable(tf.random_normal([n_classes]))\n",
    "\n",
    "# input shape: (batch_size, n_steps, n_input)\n",
    "x_internal = tf.transpose(x, [1, 0, 2])\n",
    "x_internal = tf.reshape(x_internal, [-1, n_input]) # (n_steps*batch_size, n_input)\n",
    "\n",
    "h_fc1 = tf.matmul(x_internal, w_fc1) + b_fc1\n",
    "lstm_cell = rnn_cell.BasicLSTMCell(n_hidden, forget_bias=1.0)\n",
    "\n",
    "h_fc1 = tf.split(0, n_steps, h_fc1) # n_steps * (batch_size, n_hidden)\n",
    "outputs, states = rnn.rnn(lstm_cell, h_fc1, initial_state=istate)\n",
    "\n",
    "y = tf.nn.sigmoid(tf.matmul(outputs[-1], w_fc2) + b_fc2)\n",
    "\n",
    "\n",
    "mse = tf.reduce_mean(tf.square(y_-y)) # MSE loss\n",
    "optimizer = tf.train.AdamOptimizer(0.001).minimize(mse)"
   ]
  },
  {
   "cell_type": "code",
   "execution_count": 4,
   "metadata": {
    "collapsed": false
   },
   "outputs": [],
   "source": [
    "''' \n",
    " This function creates several training sequences from each\n",
    " MNIST sample image, each training sequence consists of #n_steps samples\n",
    " with 28 features.\n",
    "'''\n",
    "\n",
    "def sequencesFromTrainingData(data, nSteps):\n",
    "    \n",
    "    X = []\n",
    "    Y = []\n",
    "    \n",
    "    for sample in data:\n",
    "        sample = sample.reshape((28,28))\n",
    "        for i in range(27-nSteps):\n",
    "            X.append(sample[i:i+nSteps,:])\n",
    "            Y.append(sample[i+nSteps][:])\n",
    "    return np.asarray(X), np.asarray(Y)\n",
    "        \n"
   ]
  },
  {
   "cell_type": "code",
   "execution_count": 5,
   "metadata": {
    "collapsed": false
   },
   "outputs": [
    {
     "name": "stdout",
     "output_type": "stream",
     "text": [
      "Iter 10, Minibatch Loss= 0.066640\n",
      "Iter 20, Minibatch Loss= 0.057214\n",
      "Iter 30, Minibatch Loss= 0.052962\n",
      "Iter 40, Minibatch Loss= 0.037202\n",
      "Iter 50, Minibatch Loss= 0.038240\n",
      "Iter 60, Minibatch Loss= 0.034530\n",
      "Iter 70, Minibatch Loss= 0.030626\n",
      "Iter 80, Minibatch Loss= 0.031049\n",
      "Iter 90, Minibatch Loss= 0.025884\n",
      "Iter 100, Minibatch Loss= 0.037439\n",
      "Iter 110, Minibatch Loss= 0.031968\n",
      "Iter 120, Minibatch Loss= 0.027933\n",
      "Iter 130, Minibatch Loss= 0.028688\n",
      "Iter 140, Minibatch Loss= 0.024916\n",
      "Iter 150, Minibatch Loss= 0.030057\n",
      "Iter 160, Minibatch Loss= 0.028029\n",
      "Iter 170, Minibatch Loss= 0.027199\n",
      "Iter 180, Minibatch Loss= 0.027356\n",
      "Iter 190, Minibatch Loss= 0.023549\n",
      "Iter 200, Minibatch Loss= 0.021242\n",
      "Iter 210, Minibatch Loss= 0.021889\n",
      "Iter 220, Minibatch Loss= 0.020250\n",
      "Iter 230, Minibatch Loss= 0.020237\n",
      "Iter 240, Minibatch Loss= 0.020930\n",
      "Iter 250, Minibatch Loss= 0.021620\n",
      "Iter 260, Minibatch Loss= 0.020093\n",
      "Iter 270, Minibatch Loss= 0.019723\n",
      "Iter 280, Minibatch Loss= 0.018861\n",
      "Iter 290, Minibatch Loss= 0.021203\n",
      "Iter 300, Minibatch Loss= 0.017675\n",
      "Iter 310, Minibatch Loss= 0.017348\n",
      "Iter 320, Minibatch Loss= 0.018985\n",
      "Iter 330, Minibatch Loss= 0.017270\n",
      "Iter 340, Minibatch Loss= 0.017877\n",
      "Iter 350, Minibatch Loss= 0.017125\n",
      "Iter 360, Minibatch Loss= 0.019266\n",
      "Iter 370, Minibatch Loss= 0.018979\n",
      "Iter 380, Minibatch Loss= 0.019111\n",
      "Iter 390, Minibatch Loss= 0.019669\n",
      "Iter 400, Minibatch Loss= 0.018176\n",
      "Iter 410, Minibatch Loss= 0.016688\n",
      "Iter 420, Minibatch Loss= 0.016627\n",
      "Iter 430, Minibatch Loss= 0.017243\n",
      "Iter 440, Minibatch Loss= 0.017838\n",
      "Iter 450, Minibatch Loss= 0.016163\n",
      "Iter 460, Minibatch Loss= 0.016941\n",
      "Iter 470, Minibatch Loss= 0.017689\n",
      "Iter 480, Minibatch Loss= 0.018148\n",
      "Iter 490, Minibatch Loss= 0.016170\n",
      "Iter 500, Minibatch Loss= 0.017502\n",
      "Iter 510, Minibatch Loss= 0.017064\n",
      "Iter 520, Minibatch Loss= 0.015729\n",
      "Iter 530, Minibatch Loss= 0.016958\n",
      "Iter 540, Minibatch Loss= 0.015954\n",
      "Iter 550, Minibatch Loss= 0.016840\n",
      "Iter 560, Minibatch Loss= 0.016426\n",
      "Iter 570, Minibatch Loss= 0.015909\n",
      "Iter 580, Minibatch Loss= 0.015539\n",
      "Iter 590, Minibatch Loss= 0.014746\n",
      "Iter 600, Minibatch Loss= 0.015252\n",
      "Iter 610, Minibatch Loss= 0.016176\n",
      "Iter 620, Minibatch Loss= 0.016708\n",
      "Iter 630, Minibatch Loss= 0.016157\n",
      "Iter 640, Minibatch Loss= 0.017556\n",
      "Iter 650, Minibatch Loss= 0.014402\n",
      "Iter 660, Minibatch Loss= 0.015445\n",
      "Iter 670, Minibatch Loss= 0.015465\n",
      "Iter 680, Minibatch Loss= 0.015515\n",
      "Iter 690, Minibatch Loss= 0.015208\n",
      "Iter 700, Minibatch Loss= 0.014061\n",
      "Iter 710, Minibatch Loss= 0.013399\n",
      "Iter 720, Minibatch Loss= 0.014966\n",
      "Iter 730, Minibatch Loss= 0.015969\n",
      "Iter 740, Minibatch Loss= 0.015007\n",
      "Iter 750, Minibatch Loss= 0.015431\n",
      "Iter 760, Minibatch Loss= 0.015778\n",
      "Iter 770, Minibatch Loss= 0.014325\n",
      "Iter 780, Minibatch Loss= 0.015134\n",
      "Iter 790, Minibatch Loss= 0.016544\n",
      "Iter 800, Minibatch Loss= 0.014472\n",
      "Iter 810, Minibatch Loss= 0.014350\n",
      "Iter 820, Minibatch Loss= 0.015530\n",
      "Iter 830, Minibatch Loss= 0.014948\n",
      "Iter 840, Minibatch Loss= 0.014205\n",
      "Iter 850, Minibatch Loss= 0.014255\n",
      "Iter 860, Minibatch Loss= 0.013966\n",
      "Iter 870, Minibatch Loss= 0.014325\n",
      "Iter 880, Minibatch Loss= 0.014506\n",
      "Iter 890, Minibatch Loss= 0.014944\n",
      "Iter 900, Minibatch Loss= 0.015218\n",
      "Iter 910, Minibatch Loss= 0.015182\n",
      "Iter 920, Minibatch Loss= 0.015481\n",
      "Iter 930, Minibatch Loss= 0.013947\n",
      "Iter 940, Minibatch Loss= 0.014561\n",
      "Iter 950, Minibatch Loss= 0.014017\n",
      "Iter 960, Minibatch Loss= 0.013629\n",
      "Iter 970, Minibatch Loss= 0.014226\n",
      "Iter 980, Minibatch Loss= 0.014847\n",
      "Iter 990, Minibatch Loss= 0.014325\n",
      "Iter 1000, Minibatch Loss= 0.014458\n",
      "Optimization Finished!\n"
     ]
    }
   ],
   "source": [
    "# Initializing the variables\n",
    "init = tf.initialize_all_variables()\n",
    "\n",
    "# Launch the graph\n",
    "sess = tf.Session()\n",
    "sess.run(init)\n",
    "step = 1\n",
    "\n",
    "for i in range(training_iters):\n",
    "    batch_xs,_ = mnist.train.next_batch(batch_size)\n",
    "    batch_xs, batch_ys = sequencesFromTrainingData(batch_xs, n_steps)\n",
    "    sess.run(optimizer, feed_dict={x: batch_xs, y_: batch_ys,\n",
    "                                   istate: np.zeros((batch_size*(27-n_steps), 2*n_hidden))})\n",
    "    if step % 10 == 0:\n",
    "        loss = sess.run(mse, feed_dict={x: batch_xs, y_: batch_ys,\n",
    "                                         istate: np.zeros((batch_size*(27-n_steps), 2*n_hidden))})\n",
    "        print \"Iter \" + str(step) + \", Minibatch Loss= \" + \"{:.6f}\".format(loss)\n",
    "    step += 1\n",
    "    \n",
    "print \"Optimization Finished!\" "
   ]
  },
  {
   "cell_type": "code",
   "execution_count": 12,
   "metadata": {
    "collapsed": false
   },
   "outputs": [
    {
     "data": {
      "image/png": "[encoded data removed]",
      "text/plain": [
       "<matplotlib.figure.Figure at 0x7fd3c30664d0>"
      ]
     },
     "metadata": {},
     "output_type": "display_data"
    },
    {
     "name": "stdout",
     "output_type": "stream",
     "text": [
      "(28, 28)\n"
     ]
    },
    {
     "data": {
      "text/plain": [
       "<matplotlib.image.AxesImage at 0x7fd3c2f637d0>"
      ]
     },
     "execution_count": 12,
     "metadata": {},
     "output_type": "execute_result"
    },
    {
     "data": {
      "image/png": "[encoded data removed]",
      "text/plain": [
       "<matplotlib.figure.Figure at 0x7fd3c31874d0>"
      ]
     },
     "metadata": {},
     "output_type": "display_data"
    }
   ],
   "source": [
    "'''\n",
    "Here the trained network is used to reconstruct a digit.\n",
    "It is not exactly fair as the network always observes the original \n",
    "image to predict the next row, so the reconstruction is almost perfect\n",
    "'''\n",
    "\n",
    "sample = mnist.test.next_batch(1)[0]\n",
    "seq,_ = sequencesFromTrainingData(sample,n_steps)\n",
    "\n",
    "p = sess.run(y, feed_dict={x: seq,\n",
    "                          istate: np.zeros((seq.shape[0], 2*n_hidden))} )\n",
    "\n",
    "sample = sample[0].reshape(28,28)\n",
    "\n",
    "plt.imshow(sample, interpolation=\"none\", cmap=\"gray\")\n",
    "plt.show()\n",
    "\n",
    "\n",
    "\n",
    "sample[16:, :] = p.reshape(-1,28) \n",
    "print sample.shape\n",
    "\n",
    "plt.imshow(sample, interpolation=\"none\", cmap=\"gray\")"
   ]
  },
  {
   "cell_type": "code",
   "execution_count": 19,
   "metadata": {
    "collapsed": false
   },
   "outputs": [
    {
     "data": {
      "image/png": "[encoded data removed]",
      "text/plain": [
       "<matplotlib.figure.Figure at 0x7fd3c3001fd0>"
      ]
     },
     "metadata": {},
     "output_type": "display_data"
    },
    {
     "data": {
      "text/plain": [
       "<matplotlib.image.AxesImage at 0x7fd3c2a393d0>"
      ]
     },
     "execution_count": 19,
     "metadata": {},
     "output_type": "execute_result"
    },
    {
     "data": {
      "image/png": "[encoded data removed]",
      "text/plain": [
       "<matplotlib.figure.Figure at 0x7fd3c2be2fd0>"
      ]
     },
     "metadata": {},
     "output_type": "display_data"
    }
   ],
   "source": [
    "'''\n",
    "Here the trained network is used to reconstruct a digit in a more difficult way.\n",
    "The network observes only the #n_steps first rows of the original image \n",
    "and then it tries to reconstruct the rest\n",
    "\n",
    "Note that the window of #n_steps observerd rows moves down as the digit is reconstructed so\n",
    "each predicted row is considered as part of the input for the next prediction. \n",
    "'''\n",
    "\n",
    "import matplotlib as mpl \n",
    "\n",
    "sample = mnist.train.next_batch(1)[0][0].reshape((28,28))\n",
    "plt.imshow(sample, interpolation=\"none\", cmap=\"gray\")\n",
    "plt.show()\n",
    "\n",
    "\n",
    "\n",
    "line = np.zeros((28,28))\n",
    "line[n_steps, :] = 1\n",
    "line = np.ma.masked_where(y == 0, y)\n",
    "\n",
    "\n",
    "\n",
    "for i in range(12):\n",
    "    \n",
    "    p = sess.run(y, feed_dict={x: [sample[i:i+n_steps,:]],\n",
    "                          istate: np.zeros((1, 2*n_hidden))} )\n",
    "    sample[i+n_steps] = p\n",
    "\n",
    "sampleRGB = np.zeros((28,28,3))   \n",
    "\n",
    "sampleRGB[:,:,0] = sample\n",
    "sampleRGB[:,:,1] = sample\n",
    "sampleRGB[:,:,2] = sample\n",
    "\n",
    "sampleRGB[14,:,:] = 0\n",
    "sampleRGB[14,:,0] = 1\n",
    "    \n",
    "# The red line divides the observed part from the reconstructed part.\n",
    "# Note that sometimes the net can not identify the digit correctly \n",
    "# but it draws a consistent digit anyway    \n",
    "    \n",
    "plt.imshow(sampleRGB, interpolation=\"none\")\n"
   ]
  },
  {
   "cell_type": "code",
   "execution_count": null,
   "metadata": {
    "collapsed": true
   },
   "outputs": [],
   "source": []
  }
 ],
 "metadata": {
  "kernelspec": {
   "display_name": "Python 2",
   "language": "python",
   "name": "python2"
  },
  "language_info": {
   "codemirror_mode": {
    "name": "ipython",
    "version": 2
   },
   "file_extension": ".py",
   "mimetype": "text/x-python",
   "name": "python",
   "nbconvert_exporter": "python",
   "pygments_lexer": "ipython2",
   "version": "2.7.6"
  }
 },
 "nbformat": 4,
 "nbformat_minor": 0
}
