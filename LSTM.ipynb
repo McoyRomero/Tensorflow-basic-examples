{
 "cells": [
  {
   "cell_type": "code",
   "execution_count": 1,
   "metadata": {
    "collapsed": false
   },
   "outputs": [
    {
     "name": "stdout",
     "output_type": "stream",
     "text": [
      "Extracting MNIST_data/train-images-idx3-ubyte.gz\n",
      "Extracting MNIST_data/train-labels-idx1-ubyte.gz\n",
      "Extracting MNIST_data/t10k-images-idx3-ubyte.gz\n",
      "Extracting MNIST_data/t10k-labels-idx1-ubyte.gz\n"
     ]
    }
   ],
   "source": [
    "%matplotlib inline\n",
    "\n",
    "import tensorflow as tf\n",
    "import matplotlib.pyplot as plt\n",
    "import numpy as np\n",
    "\n",
    "import tensorflow as tf\n",
    "from tensorflow.models.rnn import rnn, rnn_cell\n",
    "\n",
    "from tensorflow.examples.tutorials.mnist import input_data\n",
    "mnist = input_data.read_data_sets(\"MNIST_data/\", one_hot=True)\n",
    "\n"
   ]
  },
  {
   "cell_type": "code",
   "execution_count": 2,
   "metadata": {
    "collapsed": true
   },
   "outputs": [],
   "source": [
    "'''\n",
    "To classify images using a reccurent neural network, we consider every image row as a sequence of pixels.\n",
    "Because MNIST image shape is 28*28px, we will then handle 28 sequences of 28 steps for every sample.\n",
    "'''\n",
    "\n",
    "# Parameters\n",
    "learning_rate = 0.0025\n",
    "training_iters = 5000000\n",
    "display_step = 50\n",
    "\n",
    "# Network Parameters\n",
    "n_input = 28 # MNIST data input (img shape: 28*28)\n",
    "n_steps = 15 # timesteps\n",
    "n_hidden = 200 # hidden layer num of features\n",
    "n_classes = 28 # MNIST total classes (0-9 digits)\n",
    "\n",
    "batch_size = 150*(27-n_steps)"
   ]
  },
  {
   "cell_type": "code",
   "execution_count": 3,
   "metadata": {
    "collapsed": true
   },
   "outputs": [],
   "source": [
    "# tf Graph input\n",
    "x = tf.placeholder(\"float\", [None, n_steps, n_input])\n",
    "istate = tf.placeholder(\"float\", [None, 2*n_hidden]) #state & cell => 2x n_hidden\n",
    "y = tf.placeholder(\"float\", [None, n_classes])\n",
    "\n",
    "# Define weights\n",
    "weights = {\n",
    "    'hidden': tf.Variable(tf.random_normal([n_input, n_hidden])), # Hidden layer weights\n",
    "    'out': tf.Variable(tf.random_normal([n_hidden, n_classes]))\n",
    "}\n",
    "biases = {\n",
    "    'hidden': tf.Variable(tf.random_normal([n_hidden])),\n",
    "    'out': tf.Variable(tf.random_normal([n_classes]))\n",
    "}"
   ]
  },
  {
   "cell_type": "code",
   "execution_count": 4,
   "metadata": {
    "collapsed": true
   },
   "outputs": [],
   "source": [
    "def RNN(_X, _istate, _weights, _biases):\n",
    "\n",
    "    # input shape: (batch_size, n_steps, n_input)\n",
    "    _X = tf.transpose(_X, [1, 0, 2])  # permute n_steps and batch_size\n",
    "    # Reshape to prepare input to hidden activation\n",
    "    _X = tf.reshape(_X, [-1, n_input]) # (n_steps*batch_size, n_input)\n",
    "    # Linear activation\n",
    "    _X = tf.matmul(_X, _weights['hidden']) + _biases['hidden']\n",
    "\n",
    "    # Define a lstm cell with tensorflow\n",
    "    lstm_cell = rnn_cell.BasicLSTMCell(n_hidden, forget_bias=1.0)\n",
    "    # Split data because rnn cell needs a list of inputs for the RNN inner loop\n",
    "    _X = tf.split(0, n_steps, _X) # n_steps * (batch_size, n_hidden)\n",
    "\n",
    "    # Get lstm cell output\n",
    "    outputs, states = rnn.rnn(lstm_cell, _X, initial_state=_istate)\n",
    "\n",
    "    # Linear activation\n",
    "    # Get inner loop last output\n",
    "    return tf.nn.sigmoid(tf.matmul(outputs[-1], _weights['out']) + _biases['out'])"
   ]
  },
  {
   "cell_type": "code",
   "execution_count": 5,
   "metadata": {
    "collapsed": false
   },
   "outputs": [],
   "source": [
    "pred = RNN(x, istate, weights, biases)\n",
    "\n",
    "# Define loss and optimizer\n",
    "cost = tf.reduce_mean(tf.square(pred-y)) # Softmax loss\n",
    "optimizer = tf.train.AdamOptimizer(learning_rate=learning_rate).minimize(cost) # Adam Optimizer"
   ]
  },
  {
   "cell_type": "code",
   "execution_count": 6,
   "metadata": {
    "collapsed": false
   },
   "outputs": [],
   "source": [
    "def targetFromTrainingData(data, nSteps):\n",
    "    \n",
    "    X = []\n",
    "    Y = []\n",
    "    \n",
    "    for sample in data:\n",
    "        sample = sample.reshape((28,28))\n",
    "        for i in range(27-nSteps):\n",
    "            X.append(sample[i:i+nSteps,:])\n",
    "            Y.append(sample[i+nSteps][:])\n",
    "    return np.asarray(X), np.asarray(Y)\n",
    "        \n"
   ]
  },
  {
   "cell_type": "code",
   "execution_count": 17,
   "metadata": {
    "collapsed": false
   },
   "outputs": [
    {
     "data": {
      "image/png": "[encoded data removed]",
      "text/plain": [
       "<matplotlib.figure.Figure at 0x7f69317e1810>"
      ]
     },
     "metadata": {},
     "output_type": "display_data"
    },
    {
     "data": {
      "text/plain": [
       "<matplotlib.image.AxesImage at 0x7f69312ac790>"
      ]
     },
     "execution_count": 17,
     "metadata": {},
     "output_type": "execute_result"
    },
    {
     "data": {
      "image/png": "[encoded data removed]",
      "text/plain": [
       "<matplotlib.figure.Figure at 0x7f6931328f10>"
      ]
     },
     "metadata": {},
     "output_type": "display_data"
    }
   ],
   "source": [
    "a,b = targetFromTrainingData(mnist.train.next_batch(10)[0], 15)\n",
    "\n",
    "n = 0\n",
    "\n",
    "plt.imshow(a[n], cmap=\"gray\", interpolation=\"none\")\n",
    "plt.show()\n",
    "plt.imshow(b[n].reshape(1,28),cmap=\"gray\", interpolation=\"none\")"
   ]
  },
  {
   "cell_type": "code",
   "execution_count": 18,
   "metadata": {
    "collapsed": false
   },
   "outputs": [
    {
     "name": "stdout",
     "output_type": "stream",
     "text": [
      "Iter 90000, Minibatch Loss= 0.060781\n",
      "Iter 180000, Minibatch Loss= 0.038736\n",
      "Iter 270000, Minibatch Loss= 0.030736\n",
      "Iter 360000, Minibatch Loss= 0.037417\n",
      "Iter 450000, Minibatch Loss= 0.031448\n",
      "Iter 540000, Minibatch Loss= 0.027548\n",
      "Iter 630000, Minibatch Loss= 0.034440\n",
      "Iter 720000, Minibatch Loss= 0.025800\n",
      "Iter 810000, Minibatch Loss= 0.021700\n",
      "Iter 900000, Minibatch Loss= 0.022563\n",
      "Iter 990000, Minibatch Loss= 0.020938\n",
      "Iter 1080000, Minibatch Loss= 0.020958\n",
      "Iter 1170000, Minibatch Loss= 0.020753\n",
      "Iter 1260000, Minibatch Loss= 0.020974\n",
      "Iter 1350000, Minibatch Loss= 0.019289\n",
      "Iter 1440000, Minibatch Loss= 0.022216\n",
      "Iter 1530000, Minibatch Loss= 0.019857\n",
      "Iter 1620000, Minibatch Loss= 0.017079\n",
      "Iter 1710000, Minibatch Loss= 0.018442\n",
      "Iter 1800000, Minibatch Loss= 0.021160\n",
      "Iter 1890000, Minibatch Loss= 0.020281\n",
      "Iter 1980000, Minibatch Loss= 0.019041\n",
      "Iter 2070000, Minibatch Loss= 0.018466\n",
      "Iter 2160000, Minibatch Loss= 0.019285\n",
      "Iter 2250000, Minibatch Loss= 0.014734\n",
      "Iter 2340000, Minibatch Loss= 0.015308\n",
      "Iter 2430000, Minibatch Loss= 0.015214\n",
      "Iter 2520000, Minibatch Loss= 0.017429\n",
      "Iter 2610000, Minibatch Loss= 0.013851\n",
      "Iter 2700000, Minibatch Loss= 0.012984\n",
      "Iter 2790000, Minibatch Loss= 0.015680\n",
      "Iter 2880000, Minibatch Loss= 0.013319\n",
      "Iter 2970000, Minibatch Loss= 0.013944\n",
      "Iter 3060000, Minibatch Loss= 0.012826\n",
      "Iter 3150000, Minibatch Loss= 0.014637\n",
      "Iter 3240000, Minibatch Loss= 0.013523\n",
      "Iter 3330000, Minibatch Loss= 0.012736\n",
      "Iter 3420000, Minibatch Loss= 0.013766\n",
      "Iter 3510000, Minibatch Loss= 0.012602\n",
      "Iter 3600000, Minibatch Loss= 0.012103\n",
      "Iter 3690000, Minibatch Loss= 0.014832\n",
      "Iter 3780000, Minibatch Loss= 0.014041\n",
      "Iter 3870000, Minibatch Loss= 0.011623\n",
      "Iter 3960000, Minibatch Loss= 0.013447\n",
      "Iter 4050000, Minibatch Loss= 0.011849\n",
      "Iter 4140000, Minibatch Loss= 0.011695\n",
      "Iter 4230000, Minibatch Loss= 0.012535\n",
      "Iter 4320000, Minibatch Loss= 0.011993\n",
      "Iter 4410000, Minibatch Loss= 0.012482\n",
      "Iter 4500000, Minibatch Loss= 0.012472\n",
      "Iter 4590000, Minibatch Loss= 0.012443\n",
      "Iter 4680000, Minibatch Loss= 0.011743\n",
      "Iter 4770000, Minibatch Loss= 0.011481\n",
      "Iter 4860000, Minibatch Loss= 0.011040\n",
      "Iter 4950000, Minibatch Loss= 0.013164\n",
      "Optimization Finished!\n"
     ]
    }
   ],
   "source": [
    "# Initializing the variables\n",
    "init = tf.initialize_all_variables()\n",
    "\n",
    "# Launch the graph\n",
    "sess = tf.Session()\n",
    "sess.run(init)\n",
    "step = 1\n",
    "\n",
    "# Keep training until reach max iterations\n",
    "while step * batch_size < training_iters:\n",
    "    batch_xs,_ = mnist.train.next_batch(batch_size/(27-n_steps))\n",
    "    # Reshape data to get 28 seq of 28 elements\n",
    "    batch_xs, batch_ys = targetFromTrainingData(batch_xs, n_steps)\n",
    "    # Fit training using batch data\n",
    "    sess.run(optimizer, feed_dict={x: batch_xs, y: batch_ys,\n",
    "                                   istate: np.zeros((batch_size, 2*n_hidden))})\n",
    "    if step % display_step == 0:\n",
    "        # Calculate batch loss\n",
    "        loss = sess.run(cost, feed_dict={x: batch_xs, y: batch_ys,\n",
    "                                         istate: np.zeros((batch_size, 2*n_hidden))})\n",
    "        print \"Iter \" + str(step*batch_size) + \", Minibatch Loss= \" + \"{:.6f}\".format(loss)\n",
    "    step += 1\n",
    "print \"Optimization Finished!\" "
   ]
  },
  {
   "cell_type": "code",
   "execution_count": 25,
   "metadata": {
    "collapsed": false
   },
   "outputs": [
    {
     "data": {
      "image/png": "[encoded data removed]",
      "text/plain": [
       "<matplotlib.figure.Figure at 0x7f6925cbf050>"
      ]
     },
     "metadata": {},
     "output_type": "display_data"
    },
    {
     "name": "stdout",
     "output_type": "stream",
     "text": [
      "(28, 28)\n"
     ]
    },
    {
     "data": {
      "text/plain": [
       "<matplotlib.image.AxesImage at 0x7f6925c5e4d0>"
      ]
     },
     "execution_count": 25,
     "metadata": {},
     "output_type": "execute_result"
    },
    {
     "data": {
      "image/png": "[encoded data removed]",
      "text/plain": [
       "<matplotlib.figure.Figure at 0x7f6925cbf590>"
      ]
     },
     "metadata": {},
     "output_type": "display_data"
    }
   ],
   "source": [
    "sample = mnist.test.next_batch(1)[0]\n",
    "seq,_ = targetFromTrainingData(sample,n_steps)\n",
    "\n",
    "p = sess.run(pred, feed_dict={x: seq,\n",
    "                          istate: np.zeros((seq.shape[0], 2*n_hidden))} )\n",
    "\n",
    "sample = sample[0].reshape(28,28)\n",
    "\n",
    "plt.imshow(sample, interpolation=\"none\", cmap=\"gray\")\n",
    "plt.show()\n",
    "\n",
    "\n",
    "\n",
    "sample[16:, :] = p.reshape(-1,28) \n",
    "print sample.shape\n",
    "\n",
    "plt.imshow(sample, interpolation=\"none\", cmap=\"gray\")"
   ]
  },
  {
   "cell_type": "code",
   "execution_count": 37,
   "metadata": {
    "collapsed": false
   },
   "outputs": [
    {
     "data": {
      "image/png": "[encoded data removed]",
      "text/plain": [
       "<matplotlib.figure.Figure at 0x7f69259c44d0>"
      ]
     },
     "metadata": {},
     "output_type": "display_data"
    },
    {
     "data": {
      "text/plain": [
       "<matplotlib.image.AxesImage at 0x7f692538c6d0>"
      ]
     },
     "execution_count": 37,
     "metadata": {},
     "output_type": "execute_result"
    },
    {
     "data": {
      "image/png": "[encoded data removed]",
      "text/plain": [
       "<matplotlib.figure.Figure at 0x7f6925e1b690>"
      ]
     },
     "metadata": {},
     "output_type": "display_data"
    }
   ],
   "source": [
    "import matplotlib as mpl \n",
    "\n",
    "sample = mnist.test.next_batch(1)[0][0].reshape((28,28))\n",
    "plt.imshow(sample, interpolation=\"none\", cmap=\"gray\")\n",
    "plt.show()\n",
    "\n",
    "\n",
    "\n",
    "line = np.zeros((28,28))\n",
    "line[n_steps, :] = 1\n",
    "line = np.ma.masked_where(y == 0, y)\n",
    "\n",
    "\n",
    "\n",
    "for i in range(12):\n",
    "    \n",
    "    p = sess.run(pred, feed_dict={x: [sample[i:i+n_steps,:]],\n",
    "                          istate: np.zeros((1, 2*n_hidden))} )\n",
    "    sample[i+n_steps] = p\n",
    "\n",
    "sampleRGB = np.zeros((28,28,3))   \n",
    "\n",
    "sampleRGB[:,:,0] = sample\n",
    "sampleRGB[:,:,1] = sample\n",
    "sampleRGB[:,:,2] = sample\n",
    "\n",
    "sampleRGB[14,:,:] = 0\n",
    "sampleRGB[14,:,0] = 1\n",
    "    \n",
    "plt.imshow(sampleRGB, interpolation=\"none\")\n"
   ]
  },
  {
   "cell_type": "code",
   "execution_count": null,
   "metadata": {
    "collapsed": true
   },
   "outputs": [],
   "source": []
  },
  {
   "cell_type": "code",
   "execution_count": null,
   "metadata": {
    "collapsed": true
   },
   "outputs": [],
   "source": []
  }
 ],
 "metadata": {
  "kernelspec": {
   "display_name": "Python 2",
   "language": "python",
   "name": "python2"
  },
  "language_info": {
   "codemirror_mode": {
    "name": "ipython",
    "version": 2
   },
   "file_extension": ".py",
   "mimetype": "text/x-python",
   "name": "python",
   "nbconvert_exporter": "python",
   "pygments_lexer": "ipython2",
   "version": "2.7.6"
  }
 },
 "nbformat": 4,
 "nbformat_minor": 0
}
